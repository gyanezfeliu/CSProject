{
 "cells": [
  {
   "cell_type": "code",
   "execution_count": 4,
   "metadata": {},
   "outputs": [],
   "source": [
    "import matplotlib\n",
    "import sys\n",
    "import os\n",
    "import math\n",
    "import numpy as np\n",
    "import pandas as pd\n",
    "sys.path.append('.')\n",
    "import cPickle\n",
    "import CellModeller\n",
    "import json\n",
    "import matplotlib.pyplot as plt\n",
    "from matplotlib.patches import Rectangle\n",
    "\n",
    "from CS_funcs import *"
   ]
  },
  {
   "cell_type": "markdown",
   "metadata": {},
   "source": [
    "## Extraction"
   ]
  },
  {
   "cell_type": "code",
   "execution_count": 5,
   "metadata": {},
   "outputs": [],
   "source": [
    "paths = ['300 GR: 0.6/CS_project1-19-05-20-22-00/',\n",
    "        '300 GR: 1.0/CS_project1-19-05-22-18-04/',\n",
    "        '300 GR: 1.5/CS_project1-19-05-22-23-01/',\n",
    "        '300 GR: 2.0/CS_project1-19-05-23-18-03/',\n",
    "        'No dilution/CS_project1-19-05-25-00-44/']\n",
    "sim_paths = ['300 GR: 0.6/',\n",
    "            '300 GR: 1.0/',\n",
    "            '300 GR: 1.5/',\n",
    "            '300 GR: 2.0/',\n",
    "            'No dilution/']"
   ]
  },
  {
   "cell_type": "markdown",
   "metadata": {},
   "source": [
    "#### Fluorescence levels"
   ]
  },
  {
   "cell_type": "code",
   "execution_count": null,
   "metadata": {},
   "outputs": [
    {
     "name": "stdout",
     "output_type": "stream",
     "text": [
      "300 GR: 0.6/CS_project1-19-05-20-22-00/\n"
     ]
    }
   ],
   "source": [
    "for i, path in enumerate(paths):\n",
    "    print(path)\n",
    "    files = os.listdir(path)\n",
    "    files.sort()\n",
    "    database = get_fluorescence_levels(path, files)\n",
    "    with open(sim_paths[i]+'fluoData.json', 'w') as outfile:  \n",
    "        json.dump(database, outfile)"
   ]
  },
  {
   "cell_type": "markdown",
   "metadata": {},
   "source": [
    "#### Wavelength of travelling waves"
   ]
  },
  {
   "cell_type": "code",
   "execution_count": null,
   "metadata": {},
   "outputs": [],
   "source": [
    "# It is obtained from the last step of the simulation, using the information stored in the file fluoData.json\n",
    "# from fluorescence levels extraction"
   ]
  },
  {
   "cell_type": "markdown",
   "metadata": {},
   "source": [
    "#### Kymographs of travelling waves"
   ]
  },
  {
   "cell_type": "code",
   "execution_count": 233,
   "metadata": {},
   "outputs": [],
   "source": [
    "# It is obtained using the information stored in the file fluoData.json from fluorescence levels extraction\n",
    "# CREAR FUNCIÓN"
   ]
  },
  {
   "cell_type": "markdown",
   "metadata": {},
   "source": [
    "#### Radius and fluorescence tracking"
   ]
  },
  {
   "cell_type": "code",
   "execution_count": null,
   "metadata": {},
   "outputs": [
    {
     "name": "stdout",
     "output_type": "stream",
     "text": [
      "300 GR: 0.6/CS_project1-19-05-20-22-00/\n",
      "0\n",
      "1\n",
      "2\n",
      "3\n",
      "4\n",
      "5\n",
      "6\n",
      "7\n",
      "8\n",
      "9\n",
      "10\n",
      "11\n",
      "12\n",
      "13\n",
      "14\n",
      "15\n",
      "16\n",
      "17\n",
      "18\n",
      "19\n",
      "20\n",
      "21\n",
      "22\n",
      "23\n",
      "24\n",
      "25\n",
      "26\n",
      "27\n",
      "28\n",
      "29\n",
      "30\n",
      "31\n",
      "32\n",
      "33\n",
      "34\n",
      "35\n",
      "36\n",
      "37\n",
      "38\n",
      "39\n",
      "40\n",
      "41\n",
      "42\n",
      "43\n",
      "44\n",
      "45\n",
      "46\n",
      "47\n",
      "48\n",
      "49\n",
      "50\n",
      "51\n",
      "52\n",
      "53\n",
      "54\n",
      "55\n",
      "56\n",
      "57\n",
      "58\n",
      "59\n",
      "60\n",
      "61\n",
      "62\n",
      "63\n",
      "64\n",
      "65\n",
      "66\n",
      "67\n",
      "68\n",
      "69\n",
      "70\n"
     ]
    }
   ],
   "source": [
    "# Extract\n",
    "for i, path in enumerate(paths):\n",
    "    print(path)\n",
    "    files = os.listdir(path)\n",
    "    files.sort()\n",
    "    df = track_colorPos(path, files)\n",
    "    df.to_excel(sim_paths[i]+'colorRad.xlsx', index=False, encoding='utf8')"
   ]
  },
  {
   "cell_type": "code",
   "execution_count": 6,
   "metadata": {},
   "outputs": [
    {
     "name": "stdout",
     "output_type": "stream",
     "text": [
      "300 GR: 0.6/\n",
      "300 GR: 1.0/\n",
      "300 GR: 1.5/\n",
      "300 GR: 2.0/\n",
      "No dilution/\n"
     ]
    }
   ],
   "source": [
    "# Plot fluorescence\n",
    "for path in sim_paths:\n",
    "    df_colorRad = pd.read_excel(path+'colorRad.xlsx', encoding='utf-8')\n",
    "    colorR = [eval(col)[0] for col in df_colorRad['color']]\n",
    "    colorG = [eval(col)[1] for col in df_colorRad['color']]\n",
    "    colorB = [eval(col)[2] for col in df_colorRad['color']]\n",
    "\n",
    "    stepNum = df_colorRad['stepNum'].values\n",
    "\n",
    "    # Fluorescence over time\n",
    "    plt.plot(stepNum, colorR, 'r', linewidth=3)\n",
    "    plt.plot(stepNum, colorG, 'g', linewidth=3)\n",
    "    plt.plot(stepNum, colorB, 'b', linewidth=3)\n",
    "    #plt.ylabel('Fluorescence A.U.', fontsize=40)\n",
    "    plt.xlabel('Time steps', fontsize=25)\n",
    "    plt.ylim(0,1.2)\n",
    "    plt.legend(['P1', 'P2', 'P3'], loc='best')\n",
    "    print(path)\n",
    "    plt.show()"
   ]
  },
  {
   "cell_type": "code",
   "execution_count": 7,
   "metadata": {},
   "outputs": [
    {
     "name": "stdout",
     "output_type": "stream",
     "text": [
      "300 GR: 0.6/\n",
      "300 GR: 1.0/\n",
      "300 GR: 1.5/\n",
      "300 GR: 2.0/\n",
      "No dilution/\n"
     ]
    }
   ],
   "source": [
    "# Plot radius\n",
    "for path in sim_paths:\n",
    "    df_colorRad = pd.read_excel(path+'colorRad.xlsx', encoding='utf-8')\n",
    "    stepNum = df_colorRad['stepNum'].values\n",
    "    pos = [[eval(p)[0], eval(p)[0]] for p in df_colorRad['position']]\n",
    "    r = [np.sqrt(p[0]**2+p[1]**2) for p in pos]\n",
    "    #Radius over time\n",
    "    plt.plot(stepNum, r, 'b', linewidth=3)    \n",
    "    #plt.ylabel('radius um', fontsize=40)\n",
    "    plt.xlabel('Time steps', fontsize=25)\n",
    "    plt.ylim(0,80)\n",
    "    print(path)\n",
    "    plt.show()"
   ]
  },
  {
   "cell_type": "markdown",
   "metadata": {},
   "source": [
    "#### Effective growth rate"
   ]
  },
  {
   "cell_type": "code",
   "execution_count": 3,
   "metadata": {},
   "outputs": [
    {
     "name": "stdout",
     "output_type": "stream",
     "text": [
      "300 GR: 0.6/CS_project1-19-05-20-22-00/\n",
      "0\n",
      "300 GR: 1.0/CS_project1-19-05-22-18-04/\n",
      "0\n",
      "300 GR: 1.5/CS_project1-19-05-22-23-01/\n",
      "0\n",
      "300 GR: 2.0/CS_project1-19-05-23-18-03/\n",
      "0\n",
      "No dilution/CS_project1-19-05-25-00-44/\n",
      "0\n"
     ]
    }
   ],
   "source": [
    "effs_all_gr = []\n",
    "for i, path in enumerate(paths):\n",
    "    print(path)\n",
    "    files = os.listdir(path)\n",
    "    files.sort()\n",
    "    x_prom_eff, effs = get_effGrowthRates(path, files[len(files)/2:len(files)/2+3], -10, 10)\n",
    "    effs_all_gr.append([x_prom_eff, effs])"
   ]
  },
  {
   "cell_type": "code",
   "execution_count": 4,
   "metadata": {},
   "outputs": [
    {
     "name": "stdout",
     "output_type": "stream",
     "text": [
      "300 GR: 0.6/\n",
      "300 GR: 1.0/\n",
      "300 GR: 1.5/\n",
      "300 GR: 2.0/\n",
      "No dilution/\n"
     ]
    }
   ],
   "source": [
    "for i in range(5):\n",
    "    print(sim_paths[i])\n",
    "    plt.plot(effs_all_gr[i][0], effs_all_gr[i][1], linewidth=2)\n",
    "    #plt.ylabel('effGrowthRate A.U.', fontsize=35)\n",
    "    plt.xlabel('Time steps', fontsize=25)\n",
    "    plt.show()\n",
    "    plt.ylim(0,1.4)"
   ]
  },
  {
   "cell_type": "markdown",
   "metadata": {},
   "source": [
    "#### Mean drift velocity of cells"
   ]
  },
  {
   "cell_type": "code",
   "execution_count": 4,
   "metadata": {},
   "outputs": [
    {
     "name": "stdout",
     "output_type": "stream",
     "text": [
      "300 GR: 0.6/CS_project1-19-05-20-22-00/\n",
      "0\n",
      "300 GR: 1.0/CS_project1-19-05-22-18-04/\n",
      "0\n",
      "300 GR: 1.5/CS_project1-19-05-22-23-01/\n",
      "0\n",
      "300 GR: 2.0/CS_project1-19-05-23-18-03/\n",
      "0\n",
      "No dilution/CS_project1-19-05-25-00-44/\n",
      "0\n"
     ]
    }
   ],
   "source": [
    "drftvel_all_gr = []\n",
    "for i, path in enumerate(paths):\n",
    "    print(path)\n",
    "    files = os.listdir(path)\n",
    "    files.sort()\n",
    "    x_prom_dft, drftvel = get_DriftVelocity(path, files[len(files)/2:len(files)/2+3], ymin=-10, ymax=10)\n",
    "    drftvel_all_gr.append([x_prom_dft, drftvel])"
   ]
  },
  {
   "cell_type": "code",
   "execution_count": 6,
   "metadata": {},
   "outputs": [
    {
     "name": "stdout",
     "output_type": "stream",
     "text": [
      "300 GR: 0.6/\n",
      "300 GR: 1.0/\n",
      "300 GR: 1.5/\n",
      "300 GR: 2.0/\n",
      "No dilution/\n"
     ]
    }
   ],
   "source": [
    "for i in range(5):\n",
    "    print(sim_paths[i])\n",
    "    plt.plot(drftvel_all_gr[i][0], drftvel_all_gr[i][1], linewidth=3)\n",
    "    #plt.ylabel('<Drift velocity> A.U.', fontsize=35)\n",
    "    plt.xlabel('Time steps', fontsize=25)\n",
    "    plt.show()\n",
    "    plt.ylim(0,5)"
   ]
  },
  {
   "cell_type": "markdown",
   "metadata": {},
   "source": [
    "## Discussion and conclusions"
   ]
  },
  {
   "cell_type": "markdown",
   "metadata": {},
   "source": [
    "### Simulate rings as in Paulsson's paper"
   ]
  },
  {
   "cell_type": "code",
   "execution_count": null,
   "metadata": {},
   "outputs": [],
   "source": [
    "T = 30  #100\n",
    "time_max = 30000\n",
    "dt = 1\n",
    "lam = 100  #1000\n",
    "r_min = 1\n",
    "r_steps = 2\n",
    "r_list = np.arange(r_min, 50 + r_steps, r_steps)[::-1]\n",
    "r_max = max(r_list) * 5\n",
    "lam_scale = 1      #scale v drift\n",
    "v0 = lam/T  #20  #7-8 non moving\n",
    "wave0 = wave_time(T, lam, r_list[0], r_list, 0)\n",
    "\n",
    "plt.ion()\n",
    "fig, (ax1, ax2) = plt.subplots(1, 2, figsize=(12, 6))\n",
    "ax1.set_xlim(-r_max, r_max)\n",
    "ax1.set_ylim(-r_max, r_max)\n",
    "ax1.set_xlabel(\"radius r \")\n",
    "ax1.set_ylabel(\"radius r \")\n",
    "ax2.set_xlabel(\"radius r \")\n",
    "ax2.set_ylabel(\"amplitude\")\n",
    "ax2.set_ylim(0,1)\n",
    "lineax2, = ax2.plot(r_list, wave0, color = \"lightblue\", linewidth = 1, marker = \"o\", markersize = 5)\n",
    "lineax21, = ax2.plot(r_list[0], wave0[0], marker = \"o\", color = \"blue\", markersize = 5)\n",
    "#lineax22, = ax2.plot(range(r_max), (vi_calc(np.array(range(r_max)), lam, v0, lam_scale) / (2*v0)), color = \"black\", alpha = 1, label = \"normalized mean \\n radial drift velocity\")\n",
    "lineax22, = ax2.plot(range(r_max), [v0 for r in range(r_max)], color = \"black\", alpha = 1, label = \"normalized mean \\n radial drift velocity\")\n",
    "\n",
    "ax1.grid(linestyle = \"--\")\n",
    "ax2.legend(loc = \"lower right\")\n",
    "extra = Rectangle((0, 0), 1, 1, fc=\"w\", fill=False, edgecolor='none', linewidth=0)\n",
    "extra2 = Rectangle((0, 0), 1, 1, fc=\"w\", fill=False, edgecolor='none', linewidth=0)\n",
    "\n",
    "\n",
    "phi_list = np.arange(0, 2*np.pi + np.pi/32, np.pi/32)\n",
    "lines = []\n",
    "for ri in r_list:\n",
    "    circle_x, circle_y = make_circles(ri, phi_list)\n",
    "    line, = ax1.plot(circle_x, circle_y, color = \"lightblue\", linewidth = 2, alpha = 1)\n",
    "    lines.append(line)\n",
    "lines[0].set_color(\"blue\")\n",
    "\n",
    "time = 0\n",
    "time_prev = 0\n",
    "while time < time_max:\n",
    "    time += dt\n",
    "\n",
    "    r_list_new = []\n",
    "    for i in range(len(r_list)):\n",
    "\n",
    "        r_tmp = ri_update(v0, r_list[i], dt, lam)\n",
    "        r_list_new.append(r_tmp)\n",
    "\n",
    "        circles_x, circles_y = make_circles(r_tmp, phi_list)\n",
    "        wave = wave_time(T, lam, r_list[0], r_tmp, time)\n",
    "\n",
    "        lines[i].set_xdata(circles_x)\n",
    "        lines[i].set_ydata(circles_y)\n",
    "        lines[i].set_alpha(wave)\n",
    "\n",
    "    ax1.legend([lines[0], extra, extra2], [\"r: %.2f\" % r_list[0], \"# spawned rings: %.i\" % len(r_list), \"time: %.2f\" % time])\n",
    "\n",
    "    r_list = r_list_new\n",
    "    wave = wave_time(T, lam, r_list[0], r_list, time)\n",
    "    lineax2.set_ydata(wave)\n",
    "    lineax2.set_xdata(r_list)\n",
    "    lineax21.set_ydata(wave[0])\n",
    "    lineax21.set_xdata(r_list[0])\n",
    "\n",
    "    fig.canvas.draw()\n",
    "    fig.canvas.flush_events()\n",
    "    #plt.pause(0.01)\n",
    "\n",
    "    if r_list[-1] >= 3 * r_min:\n",
    "        r_list = np.append(r_list, r_min)\n",
    "        circle_x, circle_y = make_circles(r_min, phi_list)\n",
    "        line, = ax1.plot(circle_x, circle_y, color = \"lightblue\", linewidth = 2, alpha = 1)\n",
    "        lines.append(line)\n"
   ]
  },
  {
   "cell_type": "code",
   "execution_count": null,
   "metadata": {},
   "outputs": [],
   "source": []
  }
 ],
 "metadata": {
  "kernelspec": {
   "display_name": "Python 3",
   "language": "python",
   "name": "python3"
  },
  "language_info": {
   "codemirror_mode": {
    "name": "ipython",
    "version": 3
   },
   "file_extension": ".py",
   "mimetype": "text/x-python",
   "name": "python",
   "nbconvert_exporter": "python",
   "pygments_lexer": "ipython3",
   "version": "3.7.0"
  }
 },
 "nbformat": 4,
 "nbformat_minor": 2
}
